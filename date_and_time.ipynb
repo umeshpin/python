{
  "nbformat": 4,
  "nbformat_minor": 0,
  "metadata": {
    "colab": {
      "name": "date and time.ipynb",
      "provenance": [],
      "authorship_tag": "ABX9TyMvo3CKQQDeZw1t7b0/U71q",
      "include_colab_link": true
    },
    "kernelspec": {
      "name": "python3",
      "display_name": "Python 3"
    },
    "language_info": {
      "name": "python"
    }
  },
  "cells": [
    {
      "cell_type": "markdown",
      "metadata": {
        "id": "view-in-github",
        "colab_type": "text"
      },
      "source": [
        "<a href=\"https://colab.research.google.com/github/umeshpin/python/blob/master/date_and_time.ipynb\" target=\"_parent\"><img src=\"https://colab.research.google.com/assets/colab-badge.svg\" alt=\"Open In Colab\"/></a>"
      ]
    },
    {
      "cell_type": "code",
      "metadata": {
        "colab": {
          "base_uri": "https://localhost:8080/"
        },
        "id": "3_KhrKi1bfYY",
        "outputId": "5e8385fc-0319-44c7-d582-ad8a346c0c28"
      },
      "source": [
        "import calendar\n",
        "print(calendar.month(2021, 11))\n",
        "import time\n"
      ],
      "execution_count": 1,
      "outputs": [
        {
          "output_type": "stream",
          "name": "stdout",
          "text": [
            "   November 2021\n",
            "Mo Tu We Th Fr Sa Su\n",
            " 1  2  3  4  5  6  7\n",
            " 8  9 10 11 12 13 14\n",
            "15 16 17 18 19 20 21\n",
            "22 23 24 25 26 27 28\n",
            "29 30\n",
            "\n"
          ]
        }
      ]
    },
    {
      "cell_type": "code",
      "metadata": {
        "colab": {
          "base_uri": "https://localhost:8080/"
        },
        "id": "VgWoh684cN4S",
        "outputId": "4c320052-9697-4ad2-9489-dd2f622e1442"
      },
      "source": [
        "import time\n",
        "t = time.localtime()\n",
        "print(time.strftime(\"%H:%M:%S\", t))"
      ],
      "execution_count": 2,
      "outputs": [
        {
          "output_type": "stream",
          "name": "stdout",
          "text": [
            "02:05:18\n"
          ]
        }
      ]
    },
    {
      "cell_type": "code",
      "metadata": {
        "colab": {
          "base_uri": "https://localhost:8080/"
        },
        "id": "_iU_pjCwc12c",
        "outputId": "c040528d-6a7a-4809-f0b2-6b70ce2e9f05"
      },
      "source": [
        "from datetime import datetime\n",
        "import pytz\n",
        "tz_IN = pytz.timezone('Asia/Kolkata') \n",
        "datetime_IN = datetime.now(tz_IN)\n",
        "print(\"Current time in India is :\", datetime_IN.strftime(\"%H:%M:%S\"))"
      ],
      "execution_count": 4,
      "outputs": [
        {
          "output_type": "stream",
          "name": "stdout",
          "text": [
            "Current time in India is : 07:38:18\n"
          ]
        }
      ]
    }
  ]
}