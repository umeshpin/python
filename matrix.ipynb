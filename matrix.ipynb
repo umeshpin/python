{
  "nbformat": 4,
  "nbformat_minor": 0,
  "metadata": {
    "colab": {
      "name": "matrix.ipynb",
      "provenance": [],
      "authorship_tag": "ABX9TyO/PgdAiG12pLXFlGtHRZEM",
      "include_colab_link": true
    },
    "kernelspec": {
      "name": "python3",
      "display_name": "Python 3"
    },
    "language_info": {
      "name": "python"
    }
  },
  "cells": [
    {
      "cell_type": "markdown",
      "metadata": {
        "id": "view-in-github",
        "colab_type": "text"
      },
      "source": [
        "<a href=\"https://colab.research.google.com/github/umeshpin/python/blob/master/matrix.ipynb\" target=\"_parent\"><img src=\"https://colab.research.google.com/assets/colab-badge.svg\" alt=\"Open In Colab\"/></a>"
      ]
    },
    {
      "cell_type": "markdown",
      "metadata": {
        "id": "ilODKc1DrFAv"
      },
      "source": [
        "**Linear Combination of Vecotrs **"
      ]
    },
    {
      "cell_type": "code",
      "metadata": {
        "colab": {
          "base_uri": "https://localhost:8080/"
        },
        "id": "-ocLIX0UrDBD",
        "outputId": "62ce893a-d722-435c-db38-5de77e51f69b"
      },
      "source": [
        "import numpy as np\n",
        "import matplotlib.pyplot as plt\n",
        "\n",
        "v = np.array([[3],[1]])\n",
        "w = np.array([[-2],[-4]])\n",
        "print(v)\n",
        "print(w)"
      ],
      "execution_count": null,
      "outputs": [
        {
          "output_type": "stream",
          "name": "stdout",
          "text": [
            "[[3]\n",
            " [1]]\n",
            "[[-2]\n",
            " [-4]]\n"
          ]
        }
      ]
    },
    {
      "cell_type": "code",
      "metadata": {
        "id": "w5YGztxJ3qzx"
      },
      "source": [
        ""
      ],
      "execution_count": null,
      "outputs": []
    },
    {
      "cell_type": "code",
      "metadata": {
        "id": "Vp1lzTOmrZGF"
      },
      "source": [
        "a = 1.5\n",
        "b = 1"
      ],
      "execution_count": null,
      "outputs": []
    },
    {
      "cell_type": "code",
      "metadata": {
        "colab": {
          "base_uri": "https://localhost:8080/"
        },
        "id": "DFUg5iDJrbyT",
        "outputId": "d133152c-6abf-4729-8732-aa95918c5a11"
      },
      "source": [
        "vec_new = a*v + b*w\n",
        "\n",
        "print(vec_new)"
      ],
      "execution_count": null,
      "outputs": [
        {
          "output_type": "stream",
          "name": "stdout",
          "text": [
            "[[ 2.5]\n",
            " [-2.5]]\n"
          ]
        }
      ]
    },
    {
      "cell_type": "code",
      "metadata": {
        "id": "gWIqn-JY39Z1"
      },
      "source": [
        "def plotVectors(vecs, cols, alpha=1):\n",
        "    plt.figure()\n",
        "    plt.axvline(x=0, color='#A9A9A9', zorder=0)\n",
        "    plt.axhline(y=0, color='#A9A9A9', zorder=0)\n",
        "\n",
        "    for i in range(len(vecs)):\n",
        "        x = np.concatenate([[0,0],vecs[i]])\n",
        "        plt.quiver([x[0]],\n",
        "                   [x[1]],\n",
        "                   [x[2]],\n",
        "                   [x[3]],\n",
        "                   angles='xy', scale_units='xy', scale=1, color=cols[i],\n",
        "                   alpha=alpha)"
      ],
      "execution_count": 1,
      "outputs": []
    },
    {
      "cell_type": "code",
      "metadata": {
        "colab": {
          "base_uri": "https://localhost:8080/",
          "height": 286
        },
        "id": "pRPriKiG4OwL",
        "outputId": "42738df4-36d5-4cf6-a4dd-d2b0492bdd57"
      },
      "source": [
        "import numpy as np\n",
        "v = np.array([[2], [1]])\n",
        "plotVectors([v.flatten()], cols=['#1190FF'])\n",
        "plt.ylim(-1, 4)\n",
        "plt.xlim(-1, 4)"
      ],
      "execution_count": null,
      "outputs": [
        {
          "output_type": "execute_result",
          "data": {
            "text/plain": [
              "(-1.0, 4.0)"
            ]
          },
          "metadata": {},
          "execution_count": 7
        },
        {
          "output_type": "display_data",
          "data": {
            "image/png": "[encoded data removed]",
            "text/plain": [
              "<Figure size 432x288 with 1 Axes>"
            ]
          },
          "metadata": {
            "needs_background": "light"
          }
        }
      ]
    },
    {
      "cell_type": "code",
      "metadata": {
        "colab": {
          "base_uri": "https://localhost:8080/",
          "height": 391
        },
        "id": "MoVQymw54tWi",
        "outputId": "39620387-cf9d-4b36-e2e4-f2f559ad425f"
      },
      "source": [
        "A = np.array([[-1, 3], [2, -2]])\n",
        "print(A)\n",
        "print(v)\n",
        "Av = A.dot(v)\n",
        "print(Av)\n",
        "plotVectors([v.flatten(), Av.flatten()], cols=['#1190FF', '#FF9A13'])\n",
        "plt.ylim(-1, 4)\n",
        "plt.xlim(-1, 4)"
      ],
      "execution_count": null,
      "outputs": [
        {
          "output_type": "stream",
          "name": "stdout",
          "text": [
            "[[-1  3]\n",
            " [ 2 -2]]\n",
            "[[1]\n",
            " [1]]\n",
            "[[2]\n",
            " [0]]\n"
          ]
        },
        {
          "output_type": "execute_result",
          "data": {
            "text/plain": [
              "(-1.0, 4.0)"
            ]
          },
          "metadata": {},
          "execution_count": 16
        },
        {
          "output_type": "display_data",
          "data": {
            "image/png": "[encoded data removed]",
            "text/plain": [
              "<Figure size 432x288 with 1 Axes>"
            ]
          },
          "metadata": {
            "needs_background": "light"
          }
        }
      ]
    },
    {
      "cell_type": "code",
      "metadata": {
        "colab": {
          "base_uri": "https://localhost:8080/",
          "height": 356
        },
        "id": "_FDxKEZW48aD",
        "outputId": "96b7e174-0a7a-4205-fad5-23b6b8543c70"
      },
      "source": [
        "A = np.array([[5, 1], [3, 3]])\n",
        "print(A)\n",
        "\n",
        "v = np.array([[1], [1]])\n",
        "print(v)\n",
        "np.linalg.eig(A)\n",
        "\n",
        "Av = A.dot(v)\n",
        "\n",
        "orange = '#FF9A13'\n",
        "blue = '#1190FF'\n",
        "\n",
        "plotVectors([Av.flatten(), v.flatten()], cols=[blue, orange])\n",
        "plt.ylim(-1, 7)\n",
        "plt.xlim(-1, 7)"
      ],
      "execution_count": null,
      "outputs": [
        {
          "output_type": "stream",
          "name": "stdout",
          "text": [
            "[[5 1]\n",
            " [3 3]]\n",
            "[[1]\n",
            " [1]]\n"
          ]
        },
        {
          "output_type": "execute_result",
          "data": {
            "text/plain": [
              "(-1.0, 7.0)"
            ]
          },
          "metadata": {},
          "execution_count": 17
        },
        {
          "output_type": "display_data",
          "data": {
            "image/png": "[encoded data removed]",
            "text/plain": [
              "<Figure size 432x288 with 1 Axes>"
            ]
          },
          "metadata": {
            "needs_background": "light"
          }
        }
      ]
    },
    {
      "cell_type": "code",
      "metadata": {
        "colab": {
          "base_uri": "https://localhost:8080/",
          "height": 286
        },
        "id": "fQkYHlsJ5kwb",
        "outputId": "625c96aa-889a-46cb-a842-b6ef3a079e67"
      },
      "source": [
        "Av = A.dot(v)\n",
        "\n",
        "plotVectors([Av.flatten(), v.flatten()], cols=[blue, orange])\n",
        "plt.ylim(-7, 1)\n",
        "plt.xlim(-1, 3)"
      ],
      "execution_count": null,
      "outputs": [
        {
          "output_type": "execute_result",
          "data": {
            "text/plain": [
              "(-1.0, 3.0)"
            ]
          },
          "metadata": {},
          "execution_count": 18
        },
        {
          "output_type": "display_data",
          "data": {
            "image/png": "[encoded data removed]",
            "text/plain": [
              "<Figure size 432x288 with 1 Axes>"
            ]
          },
          "metadata": {
            "needs_background": "light"
          }
        }
      ]
    }
  ]
}